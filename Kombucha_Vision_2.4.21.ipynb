{
 "cells": [
  {
   "cell_type": "markdown",
   "metadata": {},
   "source": [
    "## Data loading and preparation"
   ]
  },
  {
   "cell_type": "code",
   "execution_count": 1,
   "metadata": {},
   "outputs": [],
   "source": [
    "import fastbook\n",
    "from fastbook import *\n",
    "from fastai.vision.widgets import *"
   ]
  },
  {
   "cell_type": "code",
   "execution_count": 2,
   "metadata": {},
   "outputs": [],
   "source": [
    "brew_types = 'Mold', 'Not Mold'\n",
    "path = Path('/notebooks/Kombucha/Clean Data/')"
   ]
  },
  {
   "cell_type": "code",
   "execution_count": 3,
   "metadata": {},
   "outputs": [],
   "source": [
    "#Function to create a dataloader with flexible batch sze and batch transform resizing\n",
    "def get_dls(bs, size):\n",
    "    dblock = DataBlock(blocks = (ImageBlock, CategoryBlock), \n",
    "                       #Get image files from wd path\n",
    "                       get_items=get_image_files, \n",
    "                       #30% validation set\n",
    "                       splitter=RandomSplitter(valid_pct=0.30, seed=42),\n",
    "                       #Photo folders are target labels\n",
    "                       get_y=parent_label,\n",
    "                       #Resize all photos to 460\n",
    "                       item_tfms=Resize(460),\n",
    "                       #Batch transforms, shrink photos to smaller size and perform other augmentations\n",
    "                       batch_tfms=aug_transforms(size=size, min_scale=0.75))\n",
    "    return dblock.dataloaders(path, bs=bs)"
   ]
  },
  {
   "cell_type": "code",
   "execution_count": 4,
   "metadata": {
    "scrolled": true
   },
   "outputs": [
    {
     "data": {
      "text/html": [
       "<table border=\"1\" class=\"dataframe\">\n",
       "  <thead>\n",
       "    <tr style=\"text-align: left;\">\n",
       "      <th>epoch</th>\n",
       "      <th>train_loss</th>\n",
       "      <th>valid_loss</th>\n",
       "      <th>accuracy</th>\n",
       "      <th>time</th>\n",
       "    </tr>\n",
       "  </thead>\n",
       "  <tbody>\n",
       "    <tr>\n",
       "      <td>0</td>\n",
       "      <td>1.049701</td>\n",
       "      <td>0.741660</td>\n",
       "      <td>0.653061</td>\n",
       "      <td>00:04</td>\n",
       "    </tr>\n",
       "  </tbody>\n",
       "</table>"
      ],
      "text/plain": [
       "<IPython.core.display.HTML object>"
      ]
     },
     "metadata": {},
     "output_type": "display_data"
    },
    {
     "data": {
      "text/html": [
       "<table border=\"1\" class=\"dataframe\">\n",
       "  <thead>\n",
       "    <tr style=\"text-align: left;\">\n",
       "      <th>epoch</th>\n",
       "      <th>train_loss</th>\n",
       "      <th>valid_loss</th>\n",
       "      <th>accuracy</th>\n",
       "      <th>time</th>\n",
       "    </tr>\n",
       "  </thead>\n",
       "  <tbody>\n",
       "    <tr>\n",
       "      <td>0</td>\n",
       "      <td>0.920815</td>\n",
       "      <td>0.829377</td>\n",
       "      <td>0.632653</td>\n",
       "      <td>00:04</td>\n",
       "    </tr>\n",
       "    <tr>\n",
       "      <td>1</td>\n",
       "      <td>0.883208</td>\n",
       "      <td>0.613253</td>\n",
       "      <td>0.693878</td>\n",
       "      <td>00:03</td>\n",
       "    </tr>\n",
       "    <tr>\n",
       "      <td>2</td>\n",
       "      <td>0.856494</td>\n",
       "      <td>0.591715</td>\n",
       "      <td>0.693878</td>\n",
       "      <td>00:04</td>\n",
       "    </tr>\n",
       "    <tr>\n",
       "      <td>3</td>\n",
       "      <td>0.811387</td>\n",
       "      <td>0.606424</td>\n",
       "      <td>0.632653</td>\n",
       "      <td>00:04</td>\n",
       "    </tr>\n",
       "  </tbody>\n",
       "</table>"
      ],
      "text/plain": [
       "<IPython.core.display.HTML object>"
      ]
     },
     "metadata": {},
     "output_type": "display_data"
    }
   ],
   "source": [
    "dls = get_dls(16, 128)\n",
    "learn = cnn_learner(dls, resnet18, metrics=accuracy)\n",
    "learn.fine_tune(4, 7e-4)"
   ]
  },
  {
   "cell_type": "code",
   "execution_count": 5,
   "metadata": {},
   "outputs": [],
   "source": [
    "learn.export('/notebooks/Kombucha/KombuchaVision_2.4.21.pkl')"
   ]
  },
  {
   "cell_type": "code",
   "execution_count": 6,
   "metadata": {},
   "outputs": [],
   "source": [
    "path = Path('/notebooks/Kombucha/')\n",
    "learn_inf = load_learner(path/'KombuchaVision_2.4.21.pkl')"
   ]
  },
  {
   "cell_type": "code",
   "execution_count": 7,
   "metadata": {},
   "outputs": [
    {
     "data": {
      "text/html": [],
      "text/plain": [
       "<IPython.core.display.HTML object>"
      ]
     },
     "metadata": {},
     "output_type": "display_data"
    },
    {
     "data": {
      "text/plain": [
       "('Mold', tensor(0), tensor([0.8250, 0.1750]))"
      ]
     },
     "execution_count": 7,
     "metadata": {},
     "output_type": "execute_result"
    }
   ],
   "source": [
    "pred = learn.predict('/notebooks/Kombucha/Clean Data/Mold/Mold11.jpg')\n",
    "pred"
   ]
  },
  {
   "cell_type": "code",
   "execution_count": 8,
   "metadata": {},
   "outputs": [
    {
     "name": "stdout",
     "output_type": "stream",
     "text": [
      "Package                                    Version\r\n",
      "------------------------------------------ -------------------\r\n",
      "adal                                       1.2.4\r\n",
      "anyio                                      2.0.2\r\n",
      "argon2-cffi                                20.1.0\r\n",
      "async-generator                            1.10\r\n",
      "attrs                                      20.1.0\r\n",
      "azure-cognitiveservices-search-imagesearch 2.0.0\r\n",
      "azure-common                               1.1.25\r\n",
      "backcall                                   0.2.0\r\n",
      "backports.functools-lru-cache              1.6.1\r\n",
      "bleach                                     3.1.5\r\n",
      "blis                                       0.4.1\r\n",
      "brotlipy                                   0.7.0\r\n",
      "catalogue                                  1.0.0\r\n",
      "certifi                                    2020.6.20\r\n",
      "cffi                                       1.14.1\r\n",
      "chardet                                    3.0.4\r\n",
      "cryptography                               3.0\r\n",
      "cycler                                     0.10.0\r\n",
      "cymem                                      2.0.3\r\n",
      "dataclasses                                0.6\r\n",
      "decorator                                  4.4.2\r\n",
      "defusedxml                                 0.6.0\r\n",
      "entrypoints                                0.3\r\n",
      "fastai                                     2.0.11\r\n",
      "fastai2                                    0.0.30\r\n",
      "fastbook                                   0.0.12\r\n",
      "fastcore                                   1.0.11\r\n",
      "fastprocess                                2.0.0\r\n",
      "fastprogress                               1.0.0\r\n",
      "fastscript                                 1.0.0\r\n",
      "future                                     0.18.2\r\n",
      "graphviz                                   0.14.1\r\n",
      "idna                                       2.10\r\n",
      "importlib-metadata                         1.7.0\r\n",
      "ipykernel                                  5.3.4\r\n",
      "ipython                                    7.17.0\r\n",
      "ipython-genutils                           0.2.0\r\n",
      "ipywidgets                                 7.5.1\r\n",
      "isodate                                    0.6.0\r\n",
      "jedi                                       0.17.2\r\n",
      "Jinja2                                     2.11.2\r\n",
      "joblib                                     0.16.0\r\n",
      "jsonschema                                 3.2.0\r\n",
      "jupyter-client                             6.1.6\r\n",
      "jupyter-console                            6.1.0\r\n",
      "jupyter-core                               4.6.3\r\n",
      "jupyter-server                             1.2.2\r\n",
      "jupyterlab-pygments                        0.1.2\r\n",
      "kiwisolver                                 1.2.0\r\n",
      "MarkupSafe                                 1.1.1\r\n",
      "matplotlib                                 3.3.1\r\n",
      "mistune                                    0.8.4\r\n",
      "msrest                                     0.6.18\r\n",
      "msrestazure                                0.6.4\r\n",
      "murmurhash                                 1.0.0\r\n",
      "nbclient                                   0.5.1\r\n",
      "nbconvert                                  6.0.7\r\n",
      "nbdev                                      1.0.18\r\n",
      "nbformat                                   5.0.7\r\n",
      "nest-asyncio                               1.4.3\r\n",
      "notebook                                   6.1.3\r\n",
      "numpy                                      1.19.1\r\n",
      "nvidia-ml-py3                              7.352.0\r\n",
      "oauthlib                                   3.1.0\r\n",
      "olefile                                    0.46\r\n",
      "packaging                                  20.4\r\n",
      "pandas                                     1.1.0\r\n",
      "pandocfilters                              1.4.2\r\n",
      "parso                                      0.7.1\r\n",
      "pexpect                                    4.8.0\r\n",
      "pickleshare                                0.7.5\r\n",
      "Pillow                                     7.2.0\r\n",
      "pip                                        20.2.2\r\n",
      "plac                                       0.9.6\r\n",
      "preshed                                    3.0.2\r\n",
      "prometheus-client                          0.8.0\r\n",
      "prompt-toolkit                             3.0.6\r\n",
      "ptyprocess                                 0.6.0\r\n",
      "pycparser                                  2.20\r\n",
      "Pygments                                   2.6.1\r\n",
      "PyJWT                                      1.7.1\r\n",
      "pyOpenSSL                                  19.1.0\r\n",
      "pyparsing                                  2.4.7\r\n",
      "PyQt5                                      5.12.3\r\n",
      "PyQt5-sip                                  4.19.18\r\n",
      "PyQtChart                                  5.12\r\n",
      "PyQtWebEngine                              5.12.1\r\n",
      "pyrsistent                                 0.16.0\r\n",
      "PySocks                                    1.7.1\r\n",
      "python-dateutil                            2.8.1\r\n",
      "pytz                                       2020.1\r\n",
      "PyYAML                                     5.3.1\r\n",
      "pyzmq                                      19.0.2\r\n",
      "qtconsole                                  4.7.6\r\n",
      "QtPy                                       1.9.0\r\n",
      "requests                                   2.24.0\r\n",
      "requests-oauthlib                          1.3.0\r\n",
      "scikit-learn                               0.23.2\r\n",
      "scipy                                      1.5.2\r\n",
      "Send2Trash                                 1.5.0\r\n",
      "sentencepiece                              0.1.86\r\n",
      "setuptools                                 49.6.0.post20200814\r\n",
      "six                                        1.15.0\r\n",
      "sniffio                                    1.2.0\r\n",
      "spacy                                      2.3.2\r\n",
      "srsly                                      1.0.2\r\n",
      "terminado                                  0.8.3\r\n",
      "testpath                                   0.4.4\r\n",
      "thinc                                      7.4.1\r\n",
      "threadpoolctl                              2.1.0\r\n",
      "torch                                      1.6.0\r\n",
      "torchvision                                0.7.0\r\n",
      "tornado                                    6.0.4\r\n",
      "tqdm                                       4.48.2\r\n",
      "traitlets                                  4.3.3\r\n",
      "urllib3                                    1.25.10\r\n",
      "utils                                      1.0.1\r\n",
      "voila                                      0.2.6\r\n",
      "wasabi                                     0.7.1\r\n",
      "wcwidth                                    0.2.5\r\n",
      "webencodings                               0.5.1\r\n",
      "wheel                                      0.35.1\r\n",
      "widgetsnbextension                         3.5.1\r\n",
      "zipp                                       3.1.0\r\n"
     ]
    }
   ],
   "source": [
    "!pip list"
   ]
  },
  {
   "cell_type": "code",
   "execution_count": null,
   "metadata": {},
   "outputs": [],
   "source": []
  }
 ],
 "metadata": {
  "kernelspec": {
   "display_name": "Python 3",
   "language": "python",
   "name": "python3"
  },
  "language_info": {
   "codemirror_mode": {
    "name": "ipython",
    "version": 3
   },
   "file_extension": ".py",
   "mimetype": "text/x-python",
   "name": "python",
   "nbconvert_exporter": "python",
   "pygments_lexer": "ipython3",
   "version": "3.8.5"
  }
 },
 "nbformat": 4,
 "nbformat_minor": 4
}
